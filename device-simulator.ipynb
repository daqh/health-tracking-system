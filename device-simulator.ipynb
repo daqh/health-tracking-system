{
 "cells": [
  {
   "cell_type": "code",
   "execution_count": 1,
   "metadata": {},
   "outputs": [],
   "source": [
    "import datetime\n",
    "import random\n",
    "import json\n",
    "import dotenv\n",
    "from azure.iot.device import IoTHubDeviceClient\n",
    "from azure.iot.hub import IoTHubRegistryManager\n",
    "from os import getenv"
   ]
  },
  {
   "cell_type": "code",
   "execution_count": 2,
   "metadata": {},
   "outputs": [],
   "source": [
    "DEVICE_CONNECTION_STRING = \"HostName=my-project-iot-hub.azure-devices.net;DeviceId=1;SharedAccessKey=MerqNqhUPoaOMGeM18VijAnc5Ly87ndqLAIoTI/QV2s=\"\n",
    "device_id = \"1\""
   ]
  },
  {
   "cell_type": "code",
   "execution_count": 3,
   "metadata": {},
   "outputs": [
    {
     "data": {
      "text/plain": [
       "'HostName=my-project-iot-hub.azure-devices.net;SharedAccessKeyName=iothubowner;SharedAccessKey=5aQcNZpJd+8RJOr5lo2ORq4Ge2ex/Bl9BAIoTIdR7cQ='"
      ]
     },
     "execution_count": 3,
     "metadata": {},
     "output_type": "execute_result"
    }
   ],
   "source": [
    "dotenv.load_dotenv(\"./device-function-app/.env\")\n",
    "# pRINT OUT THE ENVIRONMENT VARIABLES\n",
    "getenv(\"IOT_HUB_CONNECTION_STRING\")"
   ]
  },
  {
   "cell_type": "code",
   "execution_count": 4,
   "metadata": {},
   "outputs": [
    {
     "data": {
      "text/plain": [
       "'1'"
      ]
     },
     "execution_count": 4,
     "metadata": {},
     "output_type": "execute_result"
    }
   ],
   "source": [
    "registry = IoTHubRegistryManager.from_connection_string(getenv(\"IOT_HUB_CONNECTION_STRING\"))\n",
    "device_twin = registry.get_twin(device_id)\n",
    "# Print the twin\n",
    "device_type_id = device_twin.tags[\"deviceTypeId\"]\n",
    "oid = \"XYZZ\"\n",
    "device_type_id"
   ]
  },
  {
   "cell_type": "code",
   "execution_count": 5,
   "metadata": {},
   "outputs": [],
   "source": [
    "# Create an IoT Hub client\n",
    "device = IoTHubDeviceClient.create_from_connection_string(DEVICE_CONNECTION_STRING)\n",
    "device.connect()"
   ]
  },
  {
   "cell_type": "code",
   "execution_count": 6,
   "metadata": {},
   "outputs": [],
   "source": [
    "from abc import ABC\n",
    "class Measurement(ABC):\n",
    "    def __init__(self, device_type_id, oid: str, datetime: str):\n",
    "        self.device_type_id = device_type_id\n",
    "        self.oid = oid\n",
    "        self.datetime = datetime"
   ]
  },
  {
   "cell_type": "code",
   "execution_count": 7,
   "metadata": {},
   "outputs": [],
   "source": [
    "class PedometerMeasurement(Measurement):\n",
    "    def __init__(self, steps, distance, datetime: datetime.datetime, device_type_id, oid: str, unit=\"30m\"):\n",
    "        super().__init__(device_type_id, oid, datetime.isoformat())\n",
    "        self.steps = steps\n",
    "        self.distance = distance\n",
    "        self.unit = unit\n",
    "    \n",
    "    def __str__(self):\n",
    "        return f\"Device Type: {self.device_type_id}, Steps: {self.steps}, Distance: {self.distance}, Unit: {self.unit}, Datetime: {self.datetime}\""
   ]
  },
  {
   "cell_type": "code",
   "execution_count": 8,
   "metadata": {},
   "outputs": [],
   "source": [
    "class ScaleMeasurement(Measurement):\n",
    "    def __init__(self, weight, timestamp: datetime.datetime, device_type_id, oid: str, unit=\"kg\"):\n",
    "        super().__init__(device_type_id, oid, timestamp.isoformat())\n",
    "        self.weight = weight\n",
    "        self.unit = unit\n",
    "\n",
    "    def __str__(self):\n",
    "        return f\"Device Type: {self.device_type_id}, Weight: {self.weight}, Unit: {self.unit}, Datetime: {self.datetime}\""
   ]
  },
  {
   "cell_type": "code",
   "execution_count": 9,
   "metadata": {},
   "outputs": [
    {
     "name": "stdout",
     "output_type": "stream",
     "text": [
      "Device Type: 1, Steps: 71, Distance: 99, Unit: 30m, Datetime: 2024-02-03T18:30:00\n",
      "{\"device_type_id\": \"1\", \"oid\": \"XYZZ\", \"datetime\": \"2024-02-03T18:30:00\", \"steps\": 71, \"distance\": 99, \"unit\": \"30m\"}\n",
      "Device Type: 1, Steps: 85, Distance: 43, Unit: 30m, Datetime: 2024-02-03T19:00:00\n",
      "{\"device_type_id\": \"1\", \"oid\": \"XYZZ\", \"datetime\": \"2024-02-03T19:00:00\", \"steps\": 85, \"distance\": 43, \"unit\": \"30m\"}\n",
      "Device Type: 1, Steps: 54, Distance: 64, Unit: 30m, Datetime: 2024-02-03T19:30:00\n",
      "{\"device_type_id\": \"1\", \"oid\": \"XYZZ\", \"datetime\": \"2024-02-03T19:30:00\", \"steps\": 54, \"distance\": 64, \"unit\": \"30m\"}\n",
      "Device Type: 1, Steps: 74, Distance: 94, Unit: 30m, Datetime: 2024-02-03T20:00:00\n",
      "{\"device_type_id\": \"1\", \"oid\": \"XYZZ\", \"datetime\": \"2024-02-03T20:00:00\", \"steps\": 74, \"distance\": 94, \"unit\": \"30m\"}\n",
      "Device Type: 1, Steps: 77, Distance: 39, Unit: 30m, Datetime: 2024-02-03T20:30:00\n",
      "{\"device_type_id\": \"1\", \"oid\": \"XYZZ\", \"datetime\": \"2024-02-03T20:30:00\", \"steps\": 77, \"distance\": 39, \"unit\": \"30m\"}\n",
      "Device Type: 1, Steps: 93, Distance: 64, Unit: 30m, Datetime: 2024-02-03T21:00:00\n",
      "{\"device_type_id\": \"1\", \"oid\": \"XYZZ\", \"datetime\": \"2024-02-03T21:00:00\", \"steps\": 93, \"distance\": 64, \"unit\": \"30m\"}\n",
      "Device Type: 1, Steps: 26, Distance: 21, Unit: 30m, Datetime: 2024-02-03T21:30:00\n",
      "{\"device_type_id\": \"1\", \"oid\": \"XYZZ\", \"datetime\": \"2024-02-03T21:30:00\", \"steps\": 26, \"distance\": 21, \"unit\": \"30m\"}\n",
      "Device Type: 1, Steps: 39, Distance: 56, Unit: 30m, Datetime: 2024-02-03T22:00:00\n",
      "{\"device_type_id\": \"1\", \"oid\": \"XYZZ\", \"datetime\": \"2024-02-03T22:00:00\", \"steps\": 39, \"distance\": 56, \"unit\": \"30m\"}\n",
      "Device Type: 1, Steps: 62, Distance: 5, Unit: 30m, Datetime: 2024-02-03T22:30:00\n",
      "{\"device_type_id\": \"1\", \"oid\": \"XYZZ\", \"datetime\": \"2024-02-03T22:30:00\", \"steps\": 62, \"distance\": 5, \"unit\": \"30m\"}\n",
      "Device Type: 1, Steps: 9, Distance: 3, Unit: 30m, Datetime: 2024-02-03T23:00:00\n",
      "{\"device_type_id\": \"1\", \"oid\": \"XYZZ\", \"datetime\": \"2024-02-03T23:00:00\", \"steps\": 9, \"distance\": 3, \"unit\": \"30m\"}\n"
     ]
    }
   ],
   "source": [
    "current_time = datetime.datetime.now()\n",
    "current_time -= datetime.timedelta(minutes=current_time.minute % 30, seconds=current_time.second, microseconds=current_time.microsecond)\n",
    "thirty_minutes = datetime.timedelta(minutes=30) # Round to the previous whole 30 minutes\n",
    "# Send pedometer measurements\n",
    "for i in range(10):\n",
    "    pm = PedometerMeasurement(random.randint(0, 100), random.randint(0, 100), current_time, device_type_id, oid)\n",
    "    print(pm)\n",
    "    current_time += thirty_minutes\n",
    "    message = json.dumps(pm.__dict__)\n",
    "    print(message)\n",
    "    device.send_message(message)"
   ]
  }
 ],
 "metadata": {
  "kernelspec": {
   "display_name": "Python 3",
   "language": "python",
   "name": "python3"
  },
  "language_info": {
   "codemirror_mode": {
    "name": "ipython",
    "version": 3
   },
   "file_extension": ".py",
   "mimetype": "text/x-python",
   "name": "python",
   "nbconvert_exporter": "python",
   "pygments_lexer": "ipython3",
   "version": "3.10.12"
  }
 },
 "nbformat": 4,
 "nbformat_minor": 2
}
