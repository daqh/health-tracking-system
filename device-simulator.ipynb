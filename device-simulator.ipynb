{
 "cells": [
  {
   "cell_type": "code",
   "execution_count": 1,
   "metadata": {},
   "outputs": [],
   "source": [
    "import datetime\n",
    "import random\n",
    "import json\n",
    "import dotenv\n",
    "from azure.iot.device import IoTHubDeviceClient\n",
    "from azure.iot.hub import IoTHubRegistryManager\n",
    "from os import getenv"
   ]
  },
  {
   "cell_type": "code",
   "execution_count": 2,
   "metadata": {},
   "outputs": [],
   "source": [
    "DEVICE_CONNECTION_STRING = \"HostName=my-project-iot-hub.azure-devices.net;DeviceId=1;SharedAccessKey=xVR7lZbSZvrheZJUYkUrRMtIys/fRFpY1AIoTNKFBGE=\"\n",
    "device_id = \"1\""
   ]
  },
  {
   "cell_type": "code",
   "execution_count": 3,
   "metadata": {},
   "outputs": [
    {
     "data": {
      "text/plain": [
       "'HostName=my-project-iot-hub.azure-devices.net;SharedAccessKeyName=iothubowner;SharedAccessKey=COgWClomIgkkYHXijfrhd79CHfickfvVtAIoTH67tSw='"
      ]
     },
     "execution_count": 3,
     "metadata": {},
     "output_type": "execute_result"
    }
   ],
   "source": [
    "dotenv.load_dotenv(\"./device-function-app/.env\")\n",
    "# pRINT OUT THE ENVIRONMENT VARIABLES\n",
    "getenv(\"IOT_HUB_CONNECTION_STRING\")"
   ]
  },
  {
   "cell_type": "code",
   "execution_count": 4,
   "metadata": {},
   "outputs": [
    {
     "data": {
      "text/plain": [
       "'0'"
      ]
     },
     "execution_count": 4,
     "metadata": {},
     "output_type": "execute_result"
    }
   ],
   "source": [
    "registry = IoTHubRegistryManager.from_connection_string(getenv(\"IOT_HUB_CONNECTION_STRING\"))\n",
    "device_twin = registry.get_twin(device_id)\n",
    "# Print the twin\n",
    "device_type_id = device_twin.tags[\"deviceTypeId\"]\n",
    "oid = \"XYZZ\"\n",
    "device_type_id"
   ]
  },
  {
   "cell_type": "code",
   "execution_count": 5,
   "metadata": {},
   "outputs": [],
   "source": [
    "# Create an IoT Hub client\n",
    "device = IoTHubDeviceClient.create_from_connection_string(DEVICE_CONNECTION_STRING)\n",
    "device.connect()"
   ]
  },
  {
   "cell_type": "code",
   "execution_count": 6,
   "metadata": {},
   "outputs": [],
   "source": [
    "from abc import ABC\n",
    "class Measurement(ABC):\n",
    "    def __init__(self, device_type_id, oid: str, datetime: str):\n",
    "        self.device_type_id = device_type_id\n",
    "        self.oid = oid\n",
    "        self.datetime = datetime"
   ]
  },
  {
   "cell_type": "code",
   "execution_count": 7,
   "metadata": {},
   "outputs": [],
   "source": [
    "class PedometerMeasurement(Measurement):\n",
    "    def __init__(self, steps, distance, datetime: datetime.datetime, device_type_id, oid: str, unit=\"30m\"):\n",
    "        super().__init__(device_type_id, oid, datetime.isoformat())\n",
    "        self.steps = steps\n",
    "        self.distance = distance\n",
    "        self.unit = unit\n",
    "    \n",
    "    def __str__(self):\n",
    "        return f\"Device Type: {self.device_type_id}, Steps: {self.steps}, Distance: {self.distance}, Unit: {self.unit}, Datetime: {self.datetime}\""
   ]
  },
  {
   "cell_type": "code",
   "execution_count": 8,
   "metadata": {},
   "outputs": [],
   "source": [
    "class ScaleMeasurement(Measurement):\n",
    "    def __init__(self, weight, timestamp: datetime.datetime, device_type_id, oid: str, unit=\"kg\"):\n",
    "        super().__init__(device_type_id, oid, timestamp.isoformat())\n",
    "        self.weight = weight\n",
    "        self.unit = unit\n",
    "\n",
    "    def __str__(self):\n",
    "        return f\"Device Type: {self.device_type_id}, Weight: {self.weight}, Unit: {self.unit}, Datetime: {self.datetime}\""
   ]
  },
  {
   "cell_type": "code",
   "execution_count": 9,
   "metadata": {},
   "outputs": [
    {
     "name": "stdout",
     "output_type": "stream",
     "text": [
      "Device Type: 0, Steps: 55, Distance: 27, Unit: 30m, Datetime: 2024-02-05T00:00:00\n",
      "{\"device_type_id\": \"0\", \"oid\": \"XYZZ\", \"datetime\": \"2024-02-05T00:00:00\", \"steps\": 55, \"distance\": 27, \"unit\": \"30m\"}\n",
      "Device Type: 0, Steps: 21, Distance: 97, Unit: 30m, Datetime: 2024-02-05T00:30:00\n",
      "{\"device_type_id\": \"0\", \"oid\": \"XYZZ\", \"datetime\": \"2024-02-05T00:30:00\", \"steps\": 21, \"distance\": 97, \"unit\": \"30m\"}\n",
      "Device Type: 0, Steps: 13, Distance: 77, Unit: 30m, Datetime: 2024-02-05T01:00:00\n",
      "{\"device_type_id\": \"0\", \"oid\": \"XYZZ\", \"datetime\": \"2024-02-05T01:00:00\", \"steps\": 13, \"distance\": 77, \"unit\": \"30m\"}\n",
      "Device Type: 0, Steps: 46, Distance: 28, Unit: 30m, Datetime: 2024-02-05T01:30:00\n",
      "{\"device_type_id\": \"0\", \"oid\": \"XYZZ\", \"datetime\": \"2024-02-05T01:30:00\", \"steps\": 46, \"distance\": 28, \"unit\": \"30m\"}\n",
      "Device Type: 0, Steps: 32, Distance: 47, Unit: 30m, Datetime: 2024-02-05T02:00:00\n",
      "{\"device_type_id\": \"0\", \"oid\": \"XYZZ\", \"datetime\": \"2024-02-05T02:00:00\", \"steps\": 32, \"distance\": 47, \"unit\": \"30m\"}\n",
      "Device Type: 0, Steps: 85, Distance: 43, Unit: 30m, Datetime: 2024-02-05T02:30:00\n",
      "{\"device_type_id\": \"0\", \"oid\": \"XYZZ\", \"datetime\": \"2024-02-05T02:30:00\", \"steps\": 85, \"distance\": 43, \"unit\": \"30m\"}\n",
      "Device Type: 0, Steps: 41, Distance: 83, Unit: 30m, Datetime: 2024-02-05T03:00:00\n",
      "{\"device_type_id\": \"0\", \"oid\": \"XYZZ\", \"datetime\": \"2024-02-05T03:00:00\", \"steps\": 41, \"distance\": 83, \"unit\": \"30m\"}\n",
      "Device Type: 0, Steps: 28, Distance: 34, Unit: 30m, Datetime: 2024-02-05T03:30:00\n",
      "{\"device_type_id\": \"0\", \"oid\": \"XYZZ\", \"datetime\": \"2024-02-05T03:30:00\", \"steps\": 28, \"distance\": 34, \"unit\": \"30m\"}\n",
      "Device Type: 0, Steps: 29, Distance: 50, Unit: 30m, Datetime: 2024-02-05T04:00:00\n",
      "{\"device_type_id\": \"0\", \"oid\": \"XYZZ\", \"datetime\": \"2024-02-05T04:00:00\", \"steps\": 29, \"distance\": 50, \"unit\": \"30m\"}\n",
      "Device Type: 0, Steps: 8, Distance: 76, Unit: 30m, Datetime: 2024-02-05T04:30:00\n",
      "{\"device_type_id\": \"0\", \"oid\": \"XYZZ\", \"datetime\": \"2024-02-05T04:30:00\", \"steps\": 8, \"distance\": 76, \"unit\": \"30m\"}\n"
     ]
    }
   ],
   "source": [
    "current_time = datetime.datetime.now()\n",
    "current_time -= datetime.timedelta(minutes=current_time.minute % 30, seconds=current_time.second, microseconds=current_time.microsecond)\n",
    "thirty_minutes = datetime.timedelta(minutes=30) # Round to the previous whole 30 minutes\n",
    "# Send pedometer measurements\n",
    "for i in range(10):\n",
    "    pm = PedometerMeasurement(random.randint(0, 100), random.randint(0, 100), current_time, device_type_id, oid)\n",
    "    print(pm)\n",
    "    current_time += thirty_minutes\n",
    "    message = json.dumps(pm.__dict__)\n",
    "    print(message)\n",
    "    device.send_message(message)"
   ]
  }
 ],
 "metadata": {
  "kernelspec": {
   "display_name": "Python 3",
   "language": "python",
   "name": "python3"
  },
  "language_info": {
   "codemirror_mode": {
    "name": "ipython",
    "version": 3
   },
   "file_extension": ".py",
   "mimetype": "text/x-python",
   "name": "python",
   "nbconvert_exporter": "python",
   "pygments_lexer": "ipython3",
   "version": "3.10.12"
  }
 },
 "nbformat": 4,
 "nbformat_minor": 2
}
